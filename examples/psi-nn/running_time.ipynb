{
 "cells": [
  {
   "cell_type": "code",
   "execution_count": 2,
   "metadata": {},
   "outputs": [],
   "source": [
    "from phe.paillier import generate_paillier_keypair"
   ]
  },
  {
   "cell_type": "code",
   "execution_count": 3,
   "metadata": {},
   "outputs": [
    {
     "name": "stdout",
     "output_type": "stream",
     "text": [
      "plain matmul: 0.12432622909545898\n"
     ]
    }
   ],
   "source": [
    "import multiprocessing\n",
    "import time\n",
    "\n",
    "import numpy as np\n",
    "\n",
    "from linkefl.crypto import FastPaillier, Paillier\n",
    "from linkefl.crypto.paillier import encode, fast_cipher_matmul\n",
    "\n",
    "# shape = 10\n",
    "# enc_mat_shape = (shape, shape)\n",
    "# plain_mat_shape = (shape, shape)\n",
    "enc_mat_shape = (10, 10)\n",
    "plain_mat_shape = (10, 10)\n",
    "precision = 0.001\n",
    "np.random.seed(0)\n",
    "\n",
    "crypto = Paillier()\n",
    "enc_matrix = np.random.rand(*enc_mat_shape) * 2 - 1\n",
    "\n",
    "enc_matrix = np.array(crypto.encrypt_vector(enc_matrix.flatten())).reshape(\n",
    "    enc_mat_shape\n",
    ")\n",
    "plain_matrix = np.random.rand(*plain_mat_shape) * 2 - 1\n",
    "encode_matrix, encode_mappings = encode(\n",
    "    plain_matrix, crypto.pub_key, precision=precision\n",
    ")\n",
    "\n",
    "start_time = time.time()\n",
    "res = np.matmul(enc_matrix, plain_matrix)\n",
    "print(f\"plain matmul: {time.time() - start_time}\")\n"
   ]
  },
  {
   "cell_type": "code",
   "execution_count": 4,
   "metadata": {},
   "outputs": [],
   "source": [
    "from linkefl.modelzoo import *\n",
    "from torchinfo import summary"
   ]
  },
  {
   "cell_type": "code",
   "execution_count": 5,
   "metadata": {},
   "outputs": [
    {
     "data": {
      "text/plain": [
       "==========================================================================================\n",
       "Layer (type:depth-idx)                   Output Shape              Param #\n",
       "==========================================================================================\n",
       "ResNet                                   [128, 10]                 --\n",
       "├─Conv2d: 1-1                            [128, 64, 28, 28]         1,728\n",
       "├─BatchNorm2d: 1-2                       [128, 64, 28, 28]         128\n",
       "├─Sequential: 1-3                        [128, 64, 28, 28]         --\n",
       "│    └─BasicBlock: 2-1                   [128, 64, 28, 28]         --\n",
       "│    │    └─Conv2d: 3-1                  [128, 64, 28, 28]         36,864\n",
       "│    │    └─BatchNorm2d: 3-2             [128, 64, 28, 28]         128\n",
       "│    │    └─Conv2d: 3-3                  [128, 64, 28, 28]         36,864\n",
       "│    │    └─BatchNorm2d: 3-4             [128, 64, 28, 28]         128\n",
       "│    │    └─Sequential: 3-5              [128, 64, 28, 28]         --\n",
       "│    └─BasicBlock: 2-2                   [128, 64, 28, 28]         --\n",
       "│    │    └─Conv2d: 3-6                  [128, 64, 28, 28]         36,864\n",
       "│    │    └─BatchNorm2d: 3-7             [128, 64, 28, 28]         128\n",
       "│    │    └─Conv2d: 3-8                  [128, 64, 28, 28]         36,864\n",
       "│    │    └─BatchNorm2d: 3-9             [128, 64, 28, 28]         128\n",
       "│    │    └─Sequential: 3-10             [128, 64, 28, 28]         --\n",
       "├─Sequential: 1-4                        [128, 128, 14, 14]        --\n",
       "│    └─BasicBlock: 2-3                   [128, 128, 14, 14]        --\n",
       "│    │    └─Conv2d: 3-11                 [128, 128, 14, 14]        73,728\n",
       "│    │    └─BatchNorm2d: 3-12            [128, 128, 14, 14]        256\n",
       "│    │    └─Conv2d: 3-13                 [128, 128, 14, 14]        147,456\n",
       "│    │    └─BatchNorm2d: 3-14            [128, 128, 14, 14]        256\n",
       "│    │    └─Sequential: 3-15             [128, 128, 14, 14]        8,448\n",
       "│    └─BasicBlock: 2-4                   [128, 128, 14, 14]        --\n",
       "│    │    └─Conv2d: 3-16                 [128, 128, 14, 14]        147,456\n",
       "│    │    └─BatchNorm2d: 3-17            [128, 128, 14, 14]        256\n",
       "│    │    └─Conv2d: 3-18                 [128, 128, 14, 14]        147,456\n",
       "│    │    └─BatchNorm2d: 3-19            [128, 128, 14, 14]        256\n",
       "│    │    └─Sequential: 3-20             [128, 128, 14, 14]        --\n",
       "├─Sequential: 1-5                        [128, 256, 7, 7]          --\n",
       "│    └─BasicBlock: 2-5                   [128, 256, 7, 7]          --\n",
       "│    │    └─Conv2d: 3-21                 [128, 256, 7, 7]          294,912\n",
       "│    │    └─BatchNorm2d: 3-22            [128, 256, 7, 7]          512\n",
       "│    │    └─Conv2d: 3-23                 [128, 256, 7, 7]          589,824\n",
       "│    │    └─BatchNorm2d: 3-24            [128, 256, 7, 7]          512\n",
       "│    │    └─Sequential: 3-25             [128, 256, 7, 7]          33,280\n",
       "│    └─BasicBlock: 2-6                   [128, 256, 7, 7]          --\n",
       "│    │    └─Conv2d: 3-26                 [128, 256, 7, 7]          589,824\n",
       "│    │    └─BatchNorm2d: 3-27            [128, 256, 7, 7]          512\n",
       "│    │    └─Conv2d: 3-28                 [128, 256, 7, 7]          589,824\n",
       "│    │    └─BatchNorm2d: 3-29            [128, 256, 7, 7]          512\n",
       "│    │    └─Sequential: 3-30             [128, 256, 7, 7]          --\n",
       "├─Sequential: 1-6                        [128, 512, 4, 4]          --\n",
       "│    └─BasicBlock: 2-7                   [128, 512, 4, 4]          --\n",
       "│    │    └─Conv2d: 3-31                 [128, 512, 4, 4]          1,179,648\n",
       "│    │    └─BatchNorm2d: 3-32            [128, 512, 4, 4]          1,024\n",
       "│    │    └─Conv2d: 3-33                 [128, 512, 4, 4]          2,359,296\n",
       "│    │    └─BatchNorm2d: 3-34            [128, 512, 4, 4]          1,024\n",
       "│    │    └─Sequential: 3-35             [128, 512, 4, 4]          132,096\n",
       "│    └─BasicBlock: 2-8                   [128, 512, 4, 4]          --\n",
       "│    │    └─Conv2d: 3-36                 [128, 512, 4, 4]          2,359,296\n",
       "│    │    └─BatchNorm2d: 3-37            [128, 512, 4, 4]          1,024\n",
       "│    │    └─Conv2d: 3-38                 [128, 512, 4, 4]          2,359,296\n",
       "│    │    └─BatchNorm2d: 3-39            [128, 512, 4, 4]          1,024\n",
       "│    │    └─Sequential: 3-40             [128, 512, 4, 4]          --\n",
       "├─Linear: 1-7                            [128, 10]                 5,130\n",
       "==========================================================================================\n",
       "Total params: 11,173,962\n",
       "Trainable params: 11,173,962\n",
       "Non-trainable params: 0\n",
       "Total mult-adds (Units.GIGABYTES): 58.46\n",
       "==========================================================================================\n",
       "Input size (MB): 1.20\n",
       "Forward/backward pass size (MB): 983.05\n",
       "Params size (MB): 44.70\n",
       "Estimated Total Size (MB): 1028.95\n",
       "=========================================================================================="
      ]
     },
     "execution_count": 5,
     "metadata": {},
     "output_type": "execute_result"
    }
   ],
   "source": [
    "resnet18 = ResNet18(in_channel=3, num_classes=10)\n",
    "summary(resnet18, input_size=(128, 3, 28, 28))"
   ]
  },
  {
   "cell_type": "code",
   "execution_count": 6,
   "metadata": {},
   "outputs": [
    {
     "name": "stdout",
     "output_type": "stream",
     "text": [
      "elapsed time: 65672.21411132812\n"
     ]
    }
   ],
   "source": [
    "## SPNN\n",
    "a_shape = (128, 64, 28, 28)\n",
    "b_shape = (128, 64, 28, 28)\n",
    "\n",
    "start = time.time()\n",
    "data_a = np.random.rand(128)\n",
    "data_b = np.random.rand(128)\n",
    "enc_data_a = np.array(crypto.encrypt_vector(data_a))\n",
    "enc_data_b = np.array(crypto.encrypt_vector(data_b))\n",
    "enc_res = enc_data_b + enc_data_a\n",
    "res = crypto.decrypt_vector(enc_res)\n",
    "end_time = time.time() \n",
    "elapsed_time = (end_time - start_time) * 64 * 28 * 28\n",
    "print(f\"elapsed time: {elapsed_time}\")"
   ]
  },
  {
   "cell_type": "code",
   "execution_count": 8,
   "metadata": {},
   "outputs": [
    {
     "name": "stdout",
     "output_type": "stream",
     "text": [
      "plain matmul: 1.6938319206237793\n"
     ]
    },
    {
     "ename": "TypeError",
     "evalue": "Don't know the precision of type <class 'numpy.ndarray'>.",
     "output_type": "error",
     "traceback": [
      "\u001b[0;31m---------------------------------------------------------------------------\u001b[0m",
      "\u001b[0;31mTypeError\u001b[0m                                 Traceback (most recent call last)",
      "Cell \u001b[0;32mIn[8], line 17\u001b[0m\n\u001b[1;32m     13\u001b[0m \u001b[38;5;28mprint\u001b[39m(\u001b[38;5;124mf\u001b[39m\u001b[38;5;124m\"\u001b[39m\u001b[38;5;124mplain matmul: \u001b[39m\u001b[38;5;132;01m{\u001b[39;00mtime\u001b[38;5;241m.\u001b[39mtime()\u001b[38;5;250m \u001b[39m\u001b[38;5;241m-\u001b[39m\u001b[38;5;250m \u001b[39mstart\u001b[38;5;132;01m}\u001b[39;00m\u001b[38;5;124m\"\u001b[39m)\n\u001b[1;32m     16\u001b[0m res_shape \u001b[38;5;241m=\u001b[39m (\u001b[38;5;241m128\u001b[39m, \u001b[38;5;241m10\u001b[39m)\n\u001b[0;32m---> 17\u001b[0m noise_res \u001b[38;5;241m=\u001b[39m np\u001b[38;5;241m.\u001b[39marray(\u001b[43mcrypto\u001b[49m\u001b[38;5;241;43m.\u001b[39;49m\u001b[43mencrypt_vector\u001b[49m\u001b[43m(\u001b[49m\u001b[43mnp\u001b[49m\u001b[38;5;241;43m.\u001b[39;49m\u001b[43mrandom\u001b[49m\u001b[38;5;241;43m.\u001b[39;49m\u001b[43mrand\u001b[49m\u001b[43m(\u001b[49m\u001b[38;5;241;43m*\u001b[39;49m\u001b[43mres_shape\u001b[49m\u001b[43m)\u001b[49m\u001b[43m)\u001b[49m)\u001b[38;5;241m.\u001b[39mreshape(res_shape)\n\u001b[1;32m     18\u001b[0m res \u001b[38;5;241m=\u001b[39m res \u001b[38;5;241m-\u001b[39m noise_res\n\u001b[1;32m     19\u001b[0m res \u001b[38;5;241m=\u001b[39m crypto\u001b[38;5;241m.\u001b[39mdecrypt_vector(res)\n",
      "File \u001b[0;32m~/LinkeFL/linkefl/crypto/paillier.py:743\u001b[0m, in \u001b[0;36mPaillier.encrypt_vector\u001b[0;34m(self, plain_vector, pool, num_workers)\u001b[0m\n\u001b[1;32m    736\u001b[0m \u001b[38;5;28;01mdef\u001b[39;00m \u001b[38;5;21mencrypt_vector\u001b[39m(\n\u001b[1;32m    737\u001b[0m     \u001b[38;5;28mself\u001b[39m,\n\u001b[1;32m    738\u001b[0m     plain_vector: Union[List[Union[\u001b[38;5;28mfloat\u001b[39m, \u001b[38;5;28mint\u001b[39m]], np\u001b[38;5;241m.\u001b[39mndarray, torch\u001b[38;5;241m.\u001b[39mTensor],\n\u001b[0;32m   (...)\u001b[0m\n\u001b[1;32m    741\u001b[0m     num_workers: \u001b[38;5;28mint\u001b[39m \u001b[38;5;241m=\u001b[39m \u001b[38;5;241m1\u001b[39m,\n\u001b[1;32m    742\u001b[0m ) \u001b[38;5;241m-\u001b[39m\u001b[38;5;241m>\u001b[39m List[EncryptedNumber]:\n\u001b[0;32m--> 743\u001b[0m     \u001b[38;5;28;01mreturn\u001b[39;00m \u001b[38;5;28;43mself\u001b[39;49m\u001b[38;5;241;43m.\u001b[39;49m\u001b[43mpub_key_obj\u001b[49m\u001b[38;5;241;43m.\u001b[39;49m\u001b[43mraw_encrypt_vector\u001b[49m\u001b[43m(\u001b[49m\u001b[43mplain_vector\u001b[49m\u001b[43m,\u001b[49m\u001b[43m \u001b[49m\u001b[43mpool\u001b[49m\u001b[43m,\u001b[49m\u001b[43m \u001b[49m\u001b[43mnum_workers\u001b[49m\u001b[43m)\u001b[49m\n",
      "File \u001b[0;32m~/LinkeFL/linkefl/crypto/paillier.py:206\u001b[0m, in \u001b[0;36mPaillierPublicKey.raw_encrypt_vector\u001b[0;34m(self, plain_vector, thread_pool, num_workers)\u001b[0m\n\u001b[1;32m    203\u001b[0m plain_vector \u001b[38;5;241m=\u001b[39m PaillierPublicKey\u001b[38;5;241m.\u001b[39m_convert_vector(plain_vector)\n\u001b[1;32m    205\u001b[0m \u001b[38;5;28;01mif\u001b[39;00m thread_pool \u001b[38;5;129;01mis\u001b[39;00m \u001b[38;5;28;01mNone\u001b[39;00m \u001b[38;5;129;01mand\u001b[39;00m num_workers \u001b[38;5;241m==\u001b[39m \u001b[38;5;241m1\u001b[39m:\n\u001b[0;32m--> 206\u001b[0m     \u001b[38;5;28;01mreturn\u001b[39;00m \u001b[43m[\u001b[49m\u001b[43m_encrypt\u001b[49m\u001b[43m(\u001b[49m\u001b[43mval\u001b[49m\u001b[43m)\u001b[49m\u001b[43m \u001b[49m\u001b[38;5;28;43;01mfor\u001b[39;49;00m\u001b[43m \u001b[49m\u001b[43mval\u001b[49m\u001b[43m \u001b[49m\u001b[38;5;129;43;01min\u001b[39;49;00m\u001b[43m \u001b[49m\u001b[43mplain_vector\u001b[49m\u001b[43m]\u001b[49m\n\u001b[1;32m    208\u001b[0m create_pool \u001b[38;5;241m=\u001b[39m \u001b[38;5;28;01mFalse\u001b[39;00m\n\u001b[1;32m    209\u001b[0m \u001b[38;5;28;01mif\u001b[39;00m thread_pool \u001b[38;5;129;01mis\u001b[39;00m \u001b[38;5;28;01mNone\u001b[39;00m:\n",
      "File \u001b[0;32m~/LinkeFL/linkefl/crypto/paillier.py:206\u001b[0m, in \u001b[0;36m<listcomp>\u001b[0;34m(.0)\u001b[0m\n\u001b[1;32m    203\u001b[0m plain_vector \u001b[38;5;241m=\u001b[39m PaillierPublicKey\u001b[38;5;241m.\u001b[39m_convert_vector(plain_vector)\n\u001b[1;32m    205\u001b[0m \u001b[38;5;28;01mif\u001b[39;00m thread_pool \u001b[38;5;129;01mis\u001b[39;00m \u001b[38;5;28;01mNone\u001b[39;00m \u001b[38;5;129;01mand\u001b[39;00m num_workers \u001b[38;5;241m==\u001b[39m \u001b[38;5;241m1\u001b[39m:\n\u001b[0;32m--> 206\u001b[0m     \u001b[38;5;28;01mreturn\u001b[39;00m [\u001b[43m_encrypt\u001b[49m\u001b[43m(\u001b[49m\u001b[43mval\u001b[49m\u001b[43m)\u001b[49m \u001b[38;5;28;01mfor\u001b[39;00m val \u001b[38;5;129;01min\u001b[39;00m plain_vector]\n\u001b[1;32m    208\u001b[0m create_pool \u001b[38;5;241m=\u001b[39m \u001b[38;5;28;01mFalse\u001b[39;00m\n\u001b[1;32m    209\u001b[0m \u001b[38;5;28;01mif\u001b[39;00m thread_pool \u001b[38;5;129;01mis\u001b[39;00m \u001b[38;5;28;01mNone\u001b[39;00m:\n",
      "File \u001b[0;32m~/LinkeFL/linkefl/crypto/paillier.py:198\u001b[0m, in \u001b[0;36mPaillierPublicKey.raw_encrypt_vector.<locals>._encrypt\u001b[0;34m(val)\u001b[0m\n\u001b[1;32m    196\u001b[0m \u001b[38;5;28;01mdef\u001b[39;00m \u001b[38;5;21m_encrypt\u001b[39m(val):\n\u001b[1;32m    197\u001b[0m     \u001b[38;5;66;03m# unlike self.raw_encrypt(), there's no need to judge the data type\u001b[39;00m\n\u001b[0;32m--> 198\u001b[0m     \u001b[38;5;28;01mreturn\u001b[39;00m \u001b[38;5;28;43mself\u001b[39;49m\u001b[38;5;241;43m.\u001b[39;49m\u001b[43mraw_pub_key\u001b[49m\u001b[38;5;241;43m.\u001b[39;49m\u001b[43mencrypt\u001b[49m\u001b[43m(\u001b[49m\u001b[43mval\u001b[49m\u001b[43m)\u001b[49m\n",
      "File \u001b[0;32m~/miniconda3/lib/python3.11/site-packages/phe/paillier.py:173\u001b[0m, in \u001b[0;36mPaillierPublicKey.encrypt\u001b[0;34m(self, value, precision, r_value)\u001b[0m\n\u001b[1;32m    171\u001b[0m     encoding \u001b[38;5;241m=\u001b[39m value\n\u001b[1;32m    172\u001b[0m \u001b[38;5;28;01melse\u001b[39;00m:\n\u001b[0;32m--> 173\u001b[0m     encoding \u001b[38;5;241m=\u001b[39m \u001b[43mEncodedNumber\u001b[49m\u001b[38;5;241;43m.\u001b[39;49m\u001b[43mencode\u001b[49m\u001b[43m(\u001b[49m\u001b[38;5;28;43mself\u001b[39;49m\u001b[43m,\u001b[49m\u001b[43m \u001b[49m\u001b[43mvalue\u001b[49m\u001b[43m,\u001b[49m\u001b[43m \u001b[49m\u001b[43mprecision\u001b[49m\u001b[43m)\u001b[49m\n\u001b[1;32m    175\u001b[0m \u001b[38;5;28;01mreturn\u001b[39;00m \u001b[38;5;28mself\u001b[39m\u001b[38;5;241m.\u001b[39mencrypt_encoded(encoding, r_value)\n",
      "File \u001b[0;32m~/miniconda3/lib/python3.11/site-packages/phe/encoding.py:176\u001b[0m, in \u001b[0;36mEncodedNumber.encode\u001b[0;34m(cls, public_key, scalar, precision, max_exponent)\u001b[0m\n\u001b[1;32m    174\u001b[0m         prec_exponent \u001b[38;5;241m=\u001b[39m math\u001b[38;5;241m.\u001b[39mfloor(bin_lsb_exponent \u001b[38;5;241m/\u001b[39m \u001b[38;5;28mcls\u001b[39m\u001b[38;5;241m.\u001b[39mLOG2_BASE)\n\u001b[1;32m    175\u001b[0m     \u001b[38;5;28;01melse\u001b[39;00m:\n\u001b[0;32m--> 176\u001b[0m         \u001b[38;5;28;01mraise\u001b[39;00m \u001b[38;5;167;01mTypeError\u001b[39;00m(\u001b[38;5;124m\"\u001b[39m\u001b[38;5;124mDon\u001b[39m\u001b[38;5;124m'\u001b[39m\u001b[38;5;124mt know the precision of type \u001b[39m\u001b[38;5;132;01m%s\u001b[39;00m\u001b[38;5;124m.\u001b[39m\u001b[38;5;124m\"\u001b[39m\n\u001b[1;32m    177\u001b[0m                         \u001b[38;5;241m%\u001b[39m \u001b[38;5;28mtype\u001b[39m(scalar))\n\u001b[1;32m    178\u001b[0m \u001b[38;5;28;01melse\u001b[39;00m:\n\u001b[1;32m    179\u001b[0m     prec_exponent \u001b[38;5;241m=\u001b[39m math\u001b[38;5;241m.\u001b[39mfloor(math\u001b[38;5;241m.\u001b[39mlog(precision, \u001b[38;5;28mcls\u001b[39m\u001b[38;5;241m.\u001b[39mBASE))\n",
      "\u001b[0;31mTypeError\u001b[0m: Don't know the precision of type <class 'numpy.ndarray'>."
     ]
    }
   ],
   "source": [
    "## SFA\n",
    "start = time.time()\n",
    "embedding = np.random.rand(128, 10)\n",
    "w_shape = (10, 10)\n",
    "w = np.random.rand(*w_shape)\n",
    "enc_w = np.array(crypto.encrypt_vector(w.flatten())).reshape(w_shape)\n",
    "encode_matrix, encode_mappings = encode(\n",
    "    embedding, crypto.pub_key, precision=precision\n",
    ")\n",
    "\n",
    "# start_time = time.time()\n",
    "res = np.matmul(embedding, enc_w)\n",
    "print(f\"plain matmul: {time.time() - start}\")\n",
    "\n",
    "\n",
    "res_shape = (128, 10)\n",
    "noise_data = np.random.rand(*res_shape)\n",
    "noise_res = np.array(crypto.encrypt_vector(noise_data.flatten())).reshape(res_shape)\n",
    "res = res - noise_res\n",
    "res = crypto.decrypt_vector(res)\n",
    "print(f\"elapsed time: {time.time() - start}\")"
   ]
  },
  {
   "cell_type": "code",
   "execution_count": null,
   "metadata": {},
   "outputs": [
    {
     "name": "stdout",
     "output_type": "stream",
     "text": [
      "658.32744140625\n"
     ]
    }
   ],
   "source": [
    "## BlindFL\n",
    "conv = np.random.rand(3*3*3)\n",
    "enc_conv = np.array(crypto.encrypt_vector(conv))\n",
    "data = np.random.rand(3*3*3)\n",
    "start = time.time()\n",
    "for i in range(10):\n",
    "    single_op = (data * enc_conv).sum()\n",
    "    res = np.random.rand(1) - single_op\n",
    "    res = crypto.decrypt(res)\n",
    "single_time = (time.time() - start) / 10\n",
    "\n",
    "all_time  = single_time * (28*28) * 64 * 4\n",
    "print(all_time)"
   ]
  },
  {
   "cell_type": "code",
   "execution_count": null,
   "metadata": {},
   "outputs": [],
   "source": []
  }
 ],
 "metadata": {
  "kernelspec": {
   "display_name": "base",
   "language": "python",
   "name": "python3"
  },
  "language_info": {
   "codemirror_mode": {
    "name": "ipython",
    "version": 3
   },
   "file_extension": ".py",
   "mimetype": "text/x-python",
   "name": "python",
   "nbconvert_exporter": "python",
   "pygments_lexer": "ipython3",
   "version": "3.11.4"
  }
 },
 "nbformat": 4,
 "nbformat_minor": 2
}
