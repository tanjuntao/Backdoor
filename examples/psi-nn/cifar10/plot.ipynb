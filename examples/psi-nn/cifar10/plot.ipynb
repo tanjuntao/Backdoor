{
 "cells": [
  {
   "cell_type": "code",
   "execution_count": 1,
   "metadata": {},
   "outputs": [],
   "source": [
    "import matplotlib.pyplot as plt\n",
    "import pickle\n",
    "\n",
    "\n",
    "def plot_importance_records(records, name, plot_conv1=False):\n",
    "    fig = plt.figure()\n",
    "    ax = fig.add_subplot(1, 1, 1)\n",
    "    x_epochs = list(range(50))\n",
    "    \n",
    "    layer1_0_conv1 = [importance[\"layer1.0.conv1.weight\"] for importance in records]\n",
    "    layer1_0_conv2 = [importance[\"layer1.0.conv2.weight\"] for importance in records]\n",
    "    layer1_1_conv1 = [importance[\"layer1.1.conv1.weight\"] for importance in records]\n",
    "    layer1_1_conv2 = [importance[\"layer1.1.conv2.weight\"] for importance in records]\n",
    "    layer2_0_conv1 = [importance[\"layer2.0.conv1.weight\"] for importance in records]\n",
    "    layer2_0_conv2 = [importance[\"layer2.0.conv2.weight\"] for importance in records]\n",
    "    layer2_1_conv1 = [importance[\"layer2.1.conv1.weight\"] for importance in records]\n",
    "    layer2_1_conv2 = [importance[\"layer2.1.conv2.weight\"] for importance in records]\n",
    "    if plot_conv1:\n",
    "        conv1 = [importance[\"conv1.weight\"] for importance in records]\n",
    "        ax.plot(x_epochs, conv1, label=\"conv1\")\n",
    "    ax.plot(x_epochs, layer1_0_conv1, label=\"layer1.0.conv1\")\n",
    "    ax.plot(x_epochs, layer1_0_conv2, label=\"layer1.0.conv2\")\n",
    "    ax.plot(x_epochs, layer1_1_conv1, label=\"layer1.1.conv1\")\n",
    "    ax.plot(x_epochs, layer1_1_conv2, label=\"layer1.1.conv2\")\n",
    "    ax.plot(x_epochs, layer2_0_conv1, label=\"layer2.0.conv1\")\n",
    "    ax.plot(x_epochs, layer2_0_conv2, label=\"layer2.0.conv2\")\n",
    "    ax.plot(x_epochs, layer2_1_conv1, label=\"layer2.1.conv1\")\n",
    "    ax.plot(x_epochs, layer2_1_conv2, label=\"layer2.1.conv2\")\n",
    "\n",
    "    ax.grid(True, linestyle=\"-.\")\n",
    "    ax.set_title(\"Layer gradient\")\n",
    "    ax.set_ylabel(\"L1 grad\", labelpad=5, loc=\"center\")\n",
    "    ax.set_xlabel(\"Epoch\", labelpad=5, loc=\"center\")\n",
    "    plt.legend(loc=\"best\")\n",
    "    plt.savefig(f\"{name}.png\")\n",
    "    plt.close()"
   ]
  },
  {
   "cell_type": "code",
   "execution_count": 2,
   "metadata": {},
   "outputs": [],
   "source": [
    "with open(\"../models/cifar10/importance_records.pkl\", \"rb\") as f:\n",
    "    importance_records = pickle.load(f)\n",
    "\n",
    "plot_importance_records(importance_records, \"every_epoch_grad\", plot_conv1=False)"
   ]
  },
  {
   "cell_type": "code",
   "execution_count": 5,
   "metadata": {},
   "outputs": [
    {
     "name": "stdout",
     "output_type": "stream",
     "text": [
      "conv1.weight: 59.71272417908767\n",
      "layer1.0.conv2.weight: 13.99877479931456\n",
      "layer1.1.conv1.weight: 12.530863606967614\n",
      "layer2.0.conv1.weight: 12.35293325920793\n",
      "layer1.1.conv2.weight: 11.699917235280736\n",
      "layer1.0.conv1.weight: 11.520033437853272\n",
      "layer2.0.conv2.weight: 10.893101781119185\n",
      "layer2.1.conv1.weight: 9.95115363826335\n",
      "layer2.1.conv2.weight: 8.617363819568709\n",
      "layer3.0.conv1.weight: 8.369521546774195\n",
      "layer3.0.conv2.weight: 6.215051360490179\n",
      "layer3.1.conv1.weight: 4.332096163951064\n",
      "layer3.1.conv2.weight: 3.452260593425308\n",
      "layer4.0.conv1.weight: 3.1122634065486636\n",
      "layer4.0.conv2.weight: 1.7619459494953844\n",
      "layer4.1.conv1.weight: 0.4529760881250695\n",
      "layer4.1.conv2.weight: 0.4115161921597519\n"
     ]
    }
   ],
   "source": [
    "from copy import deepcopy\n",
    "cummulated_importance = {name: 0 for name in importance_records[0]}\n",
    "cummulated_records = []\n",
    "for record in importance_records:\n",
    "    for name, value in record.items():\n",
    "        cummulated_importance[name] += value\n",
    "    cummulated_records.append(deepcopy(cummulated_importance))\n",
    "\n",
    "plot_importance_records(cummulated_records, \"cummulated_epoch_grad\", plot_conv1=False)\n",
    "\n",
    "best_epoch = 47\n",
    "sorted_best_epoch_importance = {k: v for k, v in sorted(cummulated_records[best_epoch].items(), key=lambda item: item[1], reverse=True)}\n",
    "for name, importance in sorted_best_epoch_importance.items():\n",
    "    print(f\"{name}: {importance}\")"
   ]
  },
  {
   "cell_type": "code",
   "execution_count": null,
   "metadata": {},
   "outputs": [],
   "source": []
  }
 ],
 "metadata": {
  "kernelspec": {
   "display_name": "base",
   "language": "python",
   "name": "python3"
  },
  "language_info": {
   "codemirror_mode": {
    "name": "ipython",
    "version": 3
   },
   "file_extension": ".py",
   "mimetype": "text/x-python",
   "name": "python",
   "nbconvert_exporter": "python",
   "pygments_lexer": "ipython3",
   "version": "3.11.4"
  }
 },
 "nbformat": 4,
 "nbformat_minor": 2
}
